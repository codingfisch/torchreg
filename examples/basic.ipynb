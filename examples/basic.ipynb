{
 "cells": [
  {
   "cell_type": "markdown",
   "source": [
    "# Basic Square/Cube Examples\n",
    "\n",
    "In the following we will register two little squares/cubes to get familiar with the usage of torchreg."
   ],
   "metadata": {
    "collapsed": false
   }
  },
  {
   "cell_type": "code",
   "execution_count": 1,
   "outputs": [],
   "source": [
    "import sys\n",
    "sys.path.append('..')\n",
    "import torch\n",
    "import matplotlib.pyplot as plt\n",
    "from torchreg import AffineRegistration"
   ],
   "metadata": {
    "collapsed": false
   }
  },
  {
   "cell_type": "markdown",
   "source": [
    "Creating squares"
   ],
   "metadata": {
    "collapsed": false
   }
  },
  {
   "cell_type": "code",
   "execution_count": 2,
   "outputs": [],
   "source": [
    "# Non-centered 3² square in 7² tensor\n",
    "moving = torch.zeros(7, 7)\n",
    "moving[1:4, 2:5] = 1\n",
    "# Centered 3² square in 7² tensor\n",
    "static = torch.zeros(7, 7)\n",
    "static[2:5, 2:5] = 1"
   ],
   "metadata": {
    "collapsed": false
   }
  },
  {
   "cell_type": "markdown",
   "source": [
    "Plot before registration"
   ],
   "metadata": {
    "collapsed": false
   }
  },
  {
   "cell_type": "code",
   "execution_count": 3,
   "outputs": [
    {
     "data": {
      "text/plain": "<Figure size 640x480 with 1 Axes>",
      "image/png": "[encoded data removed]"
     },
     "metadata": {},
     "output_type": "display_data"
    }
   ],
   "source": [
    "plt.imshow(moving);"
   ],
   "metadata": {
    "collapsed": false
   }
  },
  {
   "cell_type": "code",
   "execution_count": 4,
   "outputs": [
    {
     "data": {
      "text/plain": "<Figure size 640x480 with 1 Axes>",
      "image/png": "[encoded data removed]"
     },
     "metadata": {},
     "output_type": "display_data"
    }
   ],
   "source": [
    "plt.imshow(static);"
   ],
   "metadata": {
    "collapsed": false
   }
  },
  {
   "cell_type": "markdown",
   "source": [
    "Initialize AffineRegistration with is_3d=False since we have 2D images.\n",
    "\n",
    "Change scales from default (4, 2) to (1,) since downscaling would not make sense for 7x7 pixel resolution."
   ],
   "metadata": {
    "collapsed": false
   }
  },
  {
   "cell_type": "code",
   "execution_count": 5,
   "outputs": [],
   "source": [
    "reg = AffineRegistration(is_3d=False, scales=(1,), learning_rate=1e-1)"
   ],
   "metadata": {
    "collapsed": false
   }
  },
  {
   "cell_type": "markdown",
   "source": [
    "Run registration with two dimensions added (via `[None, None]`)...\n",
    "\n",
    "(...since it is torch convention for images to have **batch + channel** dimension prior to spatial dimensions x + y (+ z))"
   ],
   "metadata": {
    "collapsed": false
   }
  },
  {
   "cell_type": "code",
   "execution_count": 6,
   "outputs": [
    {
     "name": "stderr",
     "output_type": "stream",
     "text": [
      "Shape: [1, 1, 7, 7]; Dissimiliarity: 1.1252674817332012e-13: 100%|██████████| 500/500 [00:00<00:00, 1205.78it/s]\n"
     ]
    }
   ],
   "source": [
    "moved = reg(moving[None, None], static[None, None])\n",
    "moved = moved[0, 0]"
   ],
   "metadata": {
    "collapsed": false
   }
  },
  {
   "cell_type": "markdown",
   "source": [
    "Runs fast and dissimilarity approaches 0 ✔️\n",
    "\n",
    "Let's look at the moved image!"
   ],
   "metadata": {
    "collapsed": false
   }
  },
  {
   "cell_type": "code",
   "execution_count": 7,
   "outputs": [
    {
     "data": {
      "text/plain": "<Figure size 640x480 with 1 Axes>",
      "image/png": "[encoded data removed]"
     },
     "metadata": {},
     "output_type": "display_data"
    }
   ],
   "source": [
    "plt.imshow(moved);"
   ],
   "metadata": {
    "collapsed": false
   }
  },
  {
   "cell_type": "markdown",
   "source": [
    "Nice, the formally non-centered square (see moving-plot before registration) is now aligned to the static (see static-plot before registration) and therefore centered!\n",
    "\n",
    "Next, extract the affine and the four parameters which were optimized in the background."
   ],
   "metadata": {
    "collapsed": false
   }
  },
  {
   "cell_type": "code",
   "execution_count": 8,
   "outputs": [],
   "source": [
    "affine = reg.get_affine()\n",
    "translation = reg._parameters[0]\n",
    "rotation = reg._parameters[1]\n",
    "zoom = reg._parameters[2]\n",
    "shear = reg._parameters[3]"
   ],
   "metadata": {
    "collapsed": false
   }
  },
  {
   "cell_type": "code",
   "execution_count": 9,
   "outputs": [
    {
     "name": "stdout",
     "output_type": "stream",
     "text": [
      "tensor([[[ 1.0000e+00,  4.2938e-08,  3.4270e-08],\n",
      "         [-4.6447e-08,  1.0000e+00, -3.3333e-01]]])\n"
     ]
    }
   ],
   "source": [
    "print(affine)"
   ],
   "metadata": {
    "collapsed": false
   }
  },
  {
   "cell_type": "code",
   "execution_count": 10,
   "outputs": [
    {
     "name": "stdout",
     "output_type": "stream",
     "text": [
      "Parameter containing:\n",
      "tensor([[ 3.4270e-08, -3.3333e-01]], requires_grad=True) Parameter containing:\n",
      "tensor([[[ 1.0000e+00,  4.2938e-08],\n",
      "         [-4.6447e-08,  1.0000e+00]]], requires_grad=True) Parameter containing:\n",
      "tensor([[1.0000, 1.0000]], requires_grad=True) Parameter containing:\n",
      "tensor([[0., 0.]])\n"
     ]
    }
   ],
   "source": [
    "print(translation, rotation, zoom, shear)"
   ],
   "metadata": {
    "collapsed": false
   }
  },
  {
   "cell_type": "markdown",
   "source": [
    "As expected (we are aligning two identical squares which are shifted in one dimension), all parameter values except of one are near 0 or 1.\n",
    "\n",
    "The \"one value\" `-3.3333e-01` is in the `translation` parameter as expected ✔️\n",
    "\n",
    "## Important side note!!!\n",
    "\n",
    "Unexpectedly, the `-3.3333e-01` value is in the **second** dimension of `translation` despite the misalignment being in the **first** dimension (`moving[1:4, 2:5] = 1` vs `static[2:5, 2:5] = 1`. That's because of the [torch convention of coordinate grids](https://discuss.pytorch.org/t/surprising-convention-for-grid-sample-coordinates/79997).\n",
    "\n",
    "This convention results in:\n",
    "- 2D: **X and Y coordinate are in the order `[Y, X]`**\n",
    "- 3D: **X, Y and Z coordinate are in the order `[Z, Y, X]`**\n",
    "\n",
    "A **workaround** if you don't like that is to flip the dimensions of the registrations input tensors via `.permute(1, 0)` (or `.permute(2, 1, 0)` in 3D):"
   ],
   "metadata": {
    "collapsed": false
   }
  },
  {
   "cell_type": "code",
   "execution_count": 11,
   "outputs": [
    {
     "name": "stderr",
     "output_type": "stream",
     "text": [
      "Shape: [1, 1, 7, 7]; Dissimiliarity: 3.978223503509071e-06: 100%|██████████| 500/500 [00:00<00:00, 1186.11it/s] "
     ]
    },
    {
     "name": "stdout",
     "output_type": "stream",
     "text": [
      "Parameter containing:\n",
      "tensor([[-3.3333e-01, -1.8018e-06]], requires_grad=True)\n"
     ]
    },
    {
     "name": "stderr",
     "output_type": "stream",
     "text": [
      "\n"
     ]
    }
   ],
   "source": [
    "reg = AffineRegistration(is_3d=False, scales=(1,), learning_rate=1e-2)\n",
    "moved = reg(moving.permute(1, 0)[None, None], static.permute(1, 0)[None, None])\n",
    "translation = reg._parameters[0]\n",
    "print(translation)"
   ],
   "metadata": {
    "collapsed": false
   }
  },
  {
   "cell_type": "markdown",
   "source": [
    "## Cube registration (3D) without progress bar"
   ],
   "metadata": {
    "collapsed": false
   }
  },
  {
   "cell_type": "code",
   "execution_count": 12,
   "outputs": [
    {
     "name": "stdout",
     "output_type": "stream",
     "text": [
      "Parameter containing:\n",
      "tensor([[-4.7301e-08, -4.7325e-08, -3.2846e-01]], requires_grad=True) Parameter containing:\n",
      "tensor([[[ 1.0000e+00, -1.7097e-08,  6.9077e-07],\n",
      "         [-1.7084e-08,  1.0000e+00,  6.9076e-07],\n",
      "         [ 1.5955e-09, -1.2442e-09,  1.0118e+00]]], requires_grad=True) Parameter containing:\n",
      "tensor([[1.0000, 1.0000, 1.0118]], requires_grad=True) Parameter containing:\n",
      "tensor([[0., 0., 0.]])\n"
     ]
    }
   ],
   "source": [
    "# Non-centered 3³ cube in 7³ tensor\n",
    "moving_cube = torch.zeros(7, 7, 7)\n",
    "moving_cube[1:4, 2:5, 2:5] = 1\n",
    "# Centered 3³ cube in 7³ tensor\n",
    "static_cube = torch.zeros(7, 7, 7)\n",
    "static_cube[2:5, 2:5, 2:5] = 1\n",
    "\n",
    "reg = AffineRegistration(is_3d=True, scales=(1,),\n",
    "                         verbose=False)  # verbose=False for hidden progress bar\n",
    "\n",
    "moved_cube = reg(moving_cube[None, None], static_cube[None, None])\n",
    "translation = reg._parameters[0]\n",
    "rotation = reg._parameters[1]\n",
    "zoom = reg._parameters[2]\n",
    "shear = reg._parameters[3]\n",
    "print(translation, rotation, zoom, shear)"
   ],
   "metadata": {
    "collapsed": false
   }
  },
  {
   "cell_type": "markdown",
   "source": [
    "## Translation-only registration"
   ],
   "metadata": {
    "collapsed": false
   }
  },
  {
   "cell_type": "code",
   "execution_count": 13,
   "outputs": [
    {
     "name": "stderr",
     "output_type": "stream",
     "text": [
      "Shape: [1, 1, 7, 7]; Dissimiliarity: 2.7626772397537636e-11: 100%|██████████| 500/500 [00:00<00:00, 1899.94it/s]\n"
     ]
    },
    {
     "name": "stdout",
     "output_type": "stream",
     "text": [
      "Parameter containing:\n",
      "tensor([[ 4.7112e-09, -3.3333e-01]], requires_grad=True) Parameter containing:\n",
      "tensor([[[1., 0.],\n",
      "         [0., 1.]]]) Parameter containing:\n",
      "tensor([[1., 1.]]) Parameter containing:\n",
      "tensor([[0., 0.]])\n"
     ]
    }
   ],
   "source": [
    "reg = AffineRegistration(is_3d=False, scales=(1,),\n",
    "                         with_rotation=False, with_zoom=False, with_shear=False)\n",
    "\n",
    "moved = reg(moving[None, None], static[None, None])\n",
    "\n",
    "translation = reg._parameters[0]\n",
    "rotation = reg._parameters[1]\n",
    "zoom = reg._parameters[2]\n",
    "shear = reg._parameters[3]\n",
    "print(translation, rotation, zoom, shear)"
   ],
   "metadata": {
    "collapsed": false
   }
  },
  {
   "cell_type": "markdown",
   "source": [
    "## Translation-only registration with initial parameter"
   ],
   "metadata": {
    "collapsed": false
   }
  },
  {
   "cell_type": "code",
   "execution_count": 14,
   "outputs": [
    {
     "name": "stderr",
     "output_type": "stream",
     "text": [
      "Shape: [1, 1, 7, 7]; Dissimiliarity: 8.85713030696067e-12: 100%|██████████| 500/500 [00:00<00:00, 1974.00it/s]  \n"
     ]
    },
    {
     "name": "stdout",
     "output_type": "stream",
     "text": [
      "Parameter containing:\n",
      "tensor([[-2.2464e-07, -3.3333e-01]], requires_grad=True) Parameter containing:\n",
      "tensor([[[1., 0.],\n",
      "         [0., 1.]]]) Parameter containing:\n",
      "tensor([[1., 1.]]) Parameter containing:\n",
      "tensor([[0., 0.]])\n"
     ]
    }
   ],
   "source": [
    "reg = AffineRegistration(is_3d=False, scales=(1,), init_translation=torch.Tensor([[-3e-1, 0.]]),\n",
    "                         with_rotation=False, with_zoom=False, with_shear=False)\n",
    "\n",
    "moved = reg(moving[None, None], static[None, None])\n",
    "\n",
    "translation = reg._parameters[0]\n",
    "rotation = reg._parameters[1]\n",
    "zoom = reg._parameters[2]\n",
    "shear = reg._parameters[3]\n",
    "print(translation, rotation, zoom, shear)"
   ],
   "metadata": {
    "collapsed": false
   }
  }
 ],
 "metadata": {
  "kernelspec": {
   "display_name": "Python 3",
   "language": "python",
   "name": "python3"
  },
  "language_info": {
   "codemirror_mode": {
    "name": "ipython",
    "version": 2
   },
   "file_extension": ".py",
   "mimetype": "text/x-python",
   "name": "python",
   "nbconvert_exporter": "python",
   "pygments_lexer": "ipython2",
   "version": "2.7.6"
  }
 },
 "nbformat": 4,
 "nbformat_minor": 0
}
